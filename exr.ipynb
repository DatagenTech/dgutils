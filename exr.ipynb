{
 "cells": [
  {
   "cell_type": "markdown",
   "metadata": {},
   "source": [
    "# EXR files"
   ]
  },
  {
   "cell_type": "markdown",
   "metadata": {},
   "source": [
    "Files with the EXR extension are raster images saved in a special format.<br>\n",
    "The OpenEXR format is a high dynamic range image file format, similar to the HDR raster image format. <br>\n",
    "This format is used to store images in high quality with a great color and luminance range. <br><br>\n",
    "In our case, storing the depth and normal maps in regular image formats (PNG and JPEG, 8 bits per channel) would be very difficult since the values would not be accurate enough and infinite values would not be represented properly. <br><br>\n",
    "\n",
    "An EXR file can be natively visualized in MacOS.<br>\n",
    "This is a short explanation on how to open and visualize it in Python."
   ]
  },
  {
   "cell_type": "code",
   "execution_count": null,
   "metadata": {},
   "outputs": [],
   "source": []
  }
 ],
 "metadata": {
  "interpreter": {
   "hash": "e1793042832798f48320599fe96661a3f5ff655e48dbc8746c0b01742b1b00fc"
  },
  "kernelspec": {
   "display_name": "Python 3.9.7 64-bit ('mainenv': conda)",
   "language": "python",
   "name": "python3"
  },
  "language_info": {
   "name": "python",
   "version": "3.9.7"
  },
  "orig_nbformat": 4
 },
 "nbformat": 4,
 "nbformat_minor": 2
}
