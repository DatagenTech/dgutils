{
 "cells": [
  {
   "cell_type": "markdown",
   "source": [
    "# Getting the Camera's Rotation values\n",
    "# Based on the Camera's and the Head's Locations"
   ],
   "metadata": {
    "collapsed": false,
    "pycharm": {
     "name": "#%% md\n"
    }
   }
  },
  {
   "cell_type": "markdown",
   "source": [
    "This notebook shows how to calculate the camera's rotation values based on the camera's and the head's locations\n",
    "It's recommended to use our online visualizer to see the results: https://docs.datagen.tech/en/latest/_static/visualizer.html\n",
    "The functionality below is based on our API (with minor changes it's possible to generalize it)."
   ],
   "metadata": {
    "collapsed": false,
    "pycharm": {
     "name": "#%% md\n"
    }
   }
  },
  {
   "cell_type": "markdown",
   "source": [
    "# Imports"
   ],
   "metadata": {
    "collapsed": false,
    "pycharm": {
     "name": "#%% md\n"
    }
   }
  },
  {
   "cell_type": "code",
   "execution_count": 1,
   "outputs": [],
   "source": [
    "import math\n",
    "import numpy as np\n",
    "from datagen.api.datapoint import assets"
   ],
   "metadata": {
    "collapsed": false,
    "pycharm": {
     "name": "#%%\n"
    }
   }
  },
  {
   "cell_type": "markdown",
   "source": [
    "# Inputs\n",
    "Define the desired camera's and head's locations"
   ],
   "metadata": {
    "collapsed": false,
    "pycharm": {
     "name": "#%% md\n"
    }
   }
  },
  {
   "cell_type": "code",
   "execution_count": 2,
   "outputs": [],
   "source": [
    "CAM_X = -2.36\n",
    "CAM_Y = -2.5\n",
    "CAM_Z = -1.54\n",
    "\n",
    "HEAD_X = 1.2\n",
    "HEAD_Y = -0.85\n",
    "HEAD_Z = -2.3"
   ],
   "metadata": {
    "collapsed": false,
    "pycharm": {
     "name": "#%%\n"
    }
   }
  },
  {
   "cell_type": "markdown",
   "source": [
    "# Calculating the camera's rotation"
   ],
   "metadata": {
    "collapsed": false,
    "pycharm": {
     "name": "#%% md\n"
    }
   }
  },
  {
   "cell_type": "markdown",
   "source": [
    "This function calculates the camera's rotation based on its location and the head's location:\n",
    "     · Since the origin (0, 0, 0) is located around the shoulder's level - we have a buffer at the camera's Z value.\n",
    "     · Our camera is a pinhole camera. Therefore, the \"roll\" value doesn't affect the output and is set to 0.0."
   ],
   "metadata": {
    "collapsed": false,
    "pycharm": {
     "name": "#%% md\n"
    }
   }
  },
  {
   "cell_type": "code",
   "execution_count": 3,
   "outputs": [],
   "source": [
    "def calc_cam_rotation(cam_location: assets.Point, head_location: assets.Point):\n",
    "    # Our camera has a 0.12 buffer at the z value\n",
    "    x = cam_location.x - head_location.x\n",
    "    y = cam_location.y - head_location.y\n",
    "    z = cam_location.z - 0.12 - head_location.z\n",
    "\n",
    "    # Find the heading\n",
    "    yaw_rad = math.atan2(x, y)\n",
    "    yaw = 180 - ((yaw_rad * 180) / math.pi)\n",
    "    if yaw > 180:\n",
    "        yaw -= 360\n",
    "    if yaw < -180:\n",
    "        yaw += 360\n",
    "\n",
    "    # Find the pitch\n",
    "    pitch_rad = math.atan2(z, math.sqrt(x ** 2 + y ** 2))\n",
    "    pitch = -((pitch_rad * 180) / math.pi)\n",
    "\n",
    "    roll = 0.0  # It's a pinhole camera\n",
    "\n",
    "    camera_rotation = assets.CameraRotation(yaw=yaw, pitch=pitch, roll=roll)\n",
    "\n",
    "    return camera_rotation"
   ],
   "metadata": {
    "collapsed": false,
    "pycharm": {
     "name": "#%%\n"
    }
   }
  },
  {
   "cell_type": "code",
   "execution_count": 4,
   "outputs": [
    {
     "name": "stdout",
     "output_type": "stream",
     "text": [
      "Camera Yaw: -65.13 Degrees\n",
      "Camera Pitch: -9.26 Degrees\n",
      "Camera Roll: 0.0 Degrees\n"
     ]
    }
   ],
   "source": [
    "cam_loc = assets.Point(x=CAM_X, y=CAM_Y, z=CAM_Z)\n",
    "head_loc = assets.Point(x=HEAD_X, y=HEAD_Y, z=HEAD_Z)\n",
    "\n",
    "cam_rot = calc_cam_rotation(cam_loc, head_loc)\n",
    "\n",
    "print(f\"Camera Yaw: {round(cam_rot.yaw, 2)} Degrees\\nCamera Pitch: {round(cam_rot.pitch, 2)} Degrees\\nCamera Roll: {cam_rot.roll} Degrees\")"
   ],
   "metadata": {
    "collapsed": false,
    "pycharm": {
     "name": "#%%\n"
    }
   }
  },
  {
   "cell_type": "markdown",
   "source": [
    "# Getting a ring of n cameras around the head"
   ],
   "metadata": {
    "collapsed": false,
    "pycharm": {
     "name": "#%% md\n"
    }
   }
  },
  {
   "cell_type": "code",
   "execution_count": 5,
   "outputs": [],
   "source": [
    "num_of_cameras = 14\n",
    "head_loc = assets.Point(x=HEAD_X, y=HEAD_Y, z=HEAD_Z)\n",
    "radius = 1.8\n",
    "z_value = 2.0\n",
    "wavelength = \"visible\"  # Can be \"nir\" as well"
   ],
   "metadata": {
    "collapsed": false,
    "pycharm": {
     "name": "#%%\n"
    }
   }
  },
  {
   "cell_type": "markdown",
   "source": [
    "This function returns a list of 'num_of_cameras' cameras which surround and point the head (evenly spaced at height = 'z_value')"
   ],
   "metadata": {
    "collapsed": false,
    "pycharm": {
     "name": "#%% md\n"
    }
   }
  },
  {
   "cell_type": "code",
   "execution_count": 6,
   "outputs": [],
   "source": [
    "def get_n_cameras_ring(num_of_cameras: int, head_location: assets.Point, radius: float, z_value: float, wavelength: str,\n",
    "                       projection_type: assets.Projection = assets.Projection.PERSPECTIVE,\n",
    "                       res_width: int = 512, res_height: int = 512,\n",
    "                       fov_horiz: float = 9.0, fov_vert: float = 9.0,\n",
    "                       sensor_width: float = 34):\n",
    "\n",
    "    cameras = []\n",
    "\n",
    "    if wavelength == \"nir\":\n",
    "        wavelength = assets.Wavelength.NIR\n",
    "    else:\n",
    "        wavelength = assets.Wavelength.VISIBLE\n",
    "\n",
    "    for i, xy_angle in enumerate(np.linspace(0, 360, num=num_of_cameras, endpoint=False)):\n",
    "        xy_rad = (xy_angle * math.pi) / 180\n",
    "        x = (math.sin(xy_rad) + head_location.x) * radius\n",
    "        y = (math.cos(xy_rad) + head_location.y) * radius\n",
    "        z = z_value + 0.12\n",
    "\n",
    "        cam_location = assets.Point(x=x, y=y, z=z)\n",
    "        cam_rotation = calc_cam_rotation(cam_location, head_location)\n",
    "\n",
    "        camera = assets.Camera(\n",
    "            name=\"Camera\" + str(i),\n",
    "            intrinsic_params=assets.IntrinsicParams(\n",
    "                projection=projection_type,\n",
    "                resolution_width=res_width,\n",
    "                resolution_height=res_height,\n",
    "                fov_horizontal=fov_horiz,\n",
    "                fov_vertical=fov_vert,\n",
    "                sensor_width=sensor_width,\n",
    "                wavelength=wavelength\n",
    "            ),\n",
    "            extrinsic_params=assets.ExtrinsicParams(\n",
    "                location=cam_location,\n",
    "                rotation=cam_rotation\n",
    "            )\n",
    "        )\n",
    "\n",
    "        cameras.append(camera)\n",
    "        print(f\"\\nCamera location - X: {cam_location.x}, Y: {cam_location.y}, Z: {cam_location.z}\")\n",
    "        print(f\"Camera rotation - Yaw: {cam_rotation.yaw} degrees, Pitch: {cam_rotation.pitch} degrees, Roll: {cam_rotation.roll} degrees\")\n",
    "    return cameras"
   ],
   "metadata": {
    "collapsed": false,
    "pycharm": {
     "name": "#%%\n"
    }
   }
  },
  {
   "cell_type": "code",
   "execution_count": 7,
   "outputs": [
    {
     "name": "stdout",
     "output_type": "stream",
     "text": [
      "\n",
      "Camera location - X: 2.16, Y: 0.2700000000000001, Z: 2.12\n",
      "Camera rotation - Yaw: 139.3987053549955 degrees, Pitch: -71.06532415797712 degrees, Roll: 0.0 degrees\n",
      "\n",
      "Camera location - X: 2.9409907304116043, Y: 0.0917439622243545, Z: 2.12\n",
      "Camera rotation - Yaw: 118.4100268303194 degrees, Pitch: -65.28243606185931 degrees, Roll: 0.0 degrees\n",
      "\n",
      "Camera location - X: 3.5672966684424536, Y: -0.4077183566542795, Z: 2.12\n",
      "Camera rotation - Yaw: 100.58255716114203 degrees, Pitch: -60.7485567430627 degrees, Roll: 0.0 degrees\n",
      "\n",
      "Camera location - X: 3.9148702419272827, Y: -1.129462318878634, Z: 2.12\n",
      "Camera rotation - Yaw: 84.12280824299906 degrees, Pitch: -57.596647413403254 degrees, Roll: 0.0 degrees\n",
      "\n",
      "Camera location - X: 3.9148702419272827, Y: -1.930537681121366, Z: 2.12\n",
      "Camera rotation - Yaw: 68.2970923481266 degrees, Pitch: -55.80252767672689 degrees, Roll: 0.0 degrees\n",
      "\n",
      "Camera location - X: 3.5672966684424536, Y: -2.652281643345721, Z: 2.12\n",
      "Camera rotation - Yaw: 52.71708250464236 degrees, Pitch: -55.31961636793766 degrees, Roll: 0.0 degrees\n",
      "\n",
      "Camera location - X: 2.9409907304116047, Y: -3.1517439622243546, Z: 2.12\n",
      "Camera rotation - Yaw: 37.10309473290141 degrees, Pitch: -56.13183359777721 degrees, Roll: 0.0 degrees\n",
      "\n",
      "Camera location - X: 2.1600000000000006, Y: -3.33, Z: 2.12\n",
      "Camera rotation - Yaw: 21.161259816828277 degrees, Pitch: -58.26539464780831 degrees, Roll: 0.0 degrees\n",
      "\n",
      "Camera location - X: 1.3790092695883955, Y: -3.1517439622243546, Z: 2.12\n",
      "Camera rotation - Yaw: 4.447007256999939 degrees, Pitch: -61.76839705375955 degrees, Roll: 0.0 degrees\n",
      "\n",
      "Camera location - X: 0.7527033315575455, Y: -2.6522816433457197, Z: 2.12\n",
      "Camera rotation - Yaw: -13.938249178129126 degrees, Pitch: -66.64286366993957 degrees, Roll: 0.0 degrees\n",
      "\n",
      "Camera location - X: 0.4051297580727172, Y: -1.9305376811213648, Z: 2.12\n",
      "Camera rotation - Yaw: -36.33911928166344 degrees, Pitch: -72.67438718299105 degrees, Roll: 0.0 degrees\n",
      "\n",
      "Camera location - X: 0.4051297580727174, Y: -1.1294623188786344, Z: 2.12\n",
      "Camera rotation - Yaw: -70.62922759876938 degrees, Pitch: -78.91360386834181 degrees, Roll: 0.0 degrees\n",
      "\n",
      "Camera location - X: 0.7527033315575461, Y: -0.4077183566542799, Z: 2.12\n",
      "Camera rotation - Yaw: -134.67699670237957 degrees, Pitch: -81.67736888394747 degrees, Roll: 0.0 degrees\n",
      "\n",
      "Camera location - X: 1.379009269588395, Y: 0.09174396222435431, Z: 2.12\n",
      "Camera rotation - Yaw: 169.2374576867714 degrees, Pitch: -77.43246130025085 degrees, Roll: 0.0 degrees\n"
     ]
    },
    {
     "data": {
      "text/plain": "14"
     },
     "execution_count": 7,
     "metadata": {},
     "output_type": "execute_result"
    }
   ],
   "source": [
    "cams = get_n_cameras_ring(num_of_cameras=num_of_cameras, head_location=head_loc, radius=radius, z_value=z_value, wavelength=wavelength)\n",
    "len(cams)"
   ],
   "metadata": {
    "collapsed": false,
    "pycharm": {
     "name": "#%%\n"
    }
   }
  },
  {
   "cell_type": "code",
   "execution_count": 7,
   "outputs": [],
   "source": [],
   "metadata": {
    "collapsed": false,
    "pycharm": {
     "name": "#%%\n"
    }
   }
  }
 ],
 "metadata": {
  "kernelspec": {
   "display_name": "Python 3",
   "language": "python",
   "name": "python3"
  },
  "language_info": {
   "codemirror_mode": {
    "name": "ipython",
    "version": 2
   },
   "file_extension": ".py",
   "mimetype": "text/x-python",
   "name": "python",
   "nbconvert_exporter": "python",
   "pygments_lexer": "ipython2",
   "version": "2.7.6"
  }
 },
 "nbformat": 4,
 "nbformat_minor": 0
}