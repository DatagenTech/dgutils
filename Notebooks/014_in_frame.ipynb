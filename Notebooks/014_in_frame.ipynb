{
 "cells": [
  {
   "cell_type": "code",
   "execution_count": 8,
   "id": "fe6ce8ad",
   "metadata": {
    "pycharm": {
     "name": "#%%\n"
    }
   },
   "outputs": [],
   "source": [
    "import numpy as np\n",
    "import matplotlib.pyplot as plt\n",
    "from scipy.spatial.transform import Rotation\n",
    "import sys\n",
    "\n",
    "# adding Folder_2 to the system path\n",
    "sys.path.insert(0, 'lib')\n",
    "\n",
    "from lib.camera import Camera\n",
    "from lib.json_parser import CameraJSONParser\n",
    "\n",
    "def imshow(im, figsize=(9, 9), ticks:bool=False, **kwargs):\n",
    "    plt.figure(figsize=figsize)\n",
    "    if ticks is False:\n",
    "        plt.xticks([])\n",
    "        plt.yticks([])\n",
    "    plt.imshow(im, **kwargs)\n",
    "    \n",
    "def show_vertices(vertices, size=5, color=(1, 0, 0)):\n",
    "    plt.scatter(vertices[:, 0], vertices[:, 1], s=size, color=color)"
   ]
  },
  {
   "cell_type": "code",
   "execution_count": 9,
   "id": "5e33b283",
   "metadata": {
    "pycharm": {
     "name": "#%%\n"
    }
   },
   "outputs": [],
   "source": [
    "head_vertices = np.loadtxt('lib/head_vertices.txt')"
   ]
  },
  {
   "cell_type": "code",
   "execution_count": 10,
   "id": "966144ef",
   "metadata": {
    "pycharm": {
     "name": "#%%\n"
    }
   },
   "outputs": [],
   "source": [
    "camera_request = {\n",
    "         \"name\": \"camera_1\",\n",
    "         \"type\": \"perspective\",\n",
    "         \"wavelength_kind\": \"rgb\",\n",
    "         \"location\": {\n",
    "            \"x\": 0.0,\n",
    "            \"y\": -1.6,\n",
    "            \"z\": 0.12\n",
    "         },\n",
    "         \"orientation\": {\n",
    "            \"rotation\": {\n",
    "               \"yaw\": 20.0,\n",
    "               \"pitch\": -10.0,\n",
    "               \"roll\": 40.0\n",
    "            },\n",
    "         },\n",
    "         \"aspect_px\": {\n",
    "            \"width\": 1.0,\n",
    "            \"height\": 1.0\n",
    "         },\n",
    "         \"resolution_px\": {\n",
    "            \"width\": 256.0,\n",
    "            \"height\": 256.0\n",
    "         },\n",
    "         \"fov\": {\n",
    "            \"horizontal\": 50.0,\n",
    "            \"vertical\": 50.0\n",
    "         },\n",
    "         \"sensor\": {\n",
    "            \"width\": 46.63,\n",
    "            \"height\": 46.63\n",
    "         },\n",
    "      }"
   ]
  },
  {
   "cell_type": "code",
   "execution_count": 11,
   "id": "0575b6f9",
   "metadata": {
    "pycharm": {
     "name": "#%%\n"
    }
   },
   "outputs": [
    {
     "name": "stdout",
     "output_type": "stream",
     "text": [
      "100.0% of the head is in the frame\n"
     ]
    },
    {
     "data": {
      "text/plain": "<Figure size 648x648 with 1 Axes>",
      "image/png": "[encoded data removed]"
     },
     "metadata": {},
     "output_type": "display_data"
    }
   ],
   "source": [
    "camera = CameraJSONParser().get_camera(camera_request)\n",
    "pixels = camera.coordinates_to_pixel_space(head_vertices)\n",
    "in_frame = camera.get_pixels_in_frame(pixels)\n",
    "\n",
    "fraction_head_in_frame = in_frame.mean()\n",
    "print(f\"{fraction_head_in_frame*100:0.1f}% of the head is in the frame\")\n",
    "\n",
    "imshow(np.ones((256, 256, 3)))\n",
    "show_vertices(pixels[in_frame])"
   ]
  },
  {
   "cell_type": "code",
   "execution_count": 12,
   "id": "b6018fed",
   "metadata": {
    "pycharm": {
     "name": "#%%\n"
    }
   },
   "outputs": [
    {
     "name": "stdout",
     "output_type": "stream",
     "text": [
      "96.4% of the head is in the frame\n"
     ]
    },
    {
     "data": {
      "text/plain": "<Figure size 648x648 with 1 Axes>",
      "image/png": "[encoded data removed]"
     },
     "metadata": {},
     "output_type": "display_data"
    }
   ],
   "source": [
    "camera_request['location']['z'] = 0.05\n",
    "\n",
    "camera = CameraJSONParser().get_camera(camera_request)\n",
    "pixels = camera.coordinates_to_pixel_space(head_vertices)\n",
    "in_frame = camera.get_pixels_in_frame(pixels)\n",
    "\n",
    "fraction_head_in_frame = in_frame.mean()\n",
    "print(f\"{fraction_head_in_frame*100:0.1f}% of the head is in the frame\")\n",
    "\n",
    "imshow(np.ones((256, 256, 3)))\n",
    "show_vertices(pixels[in_frame])"
   ]
  },
  {
   "cell_type": "code",
   "execution_count": 13,
   "id": "3a04ea74",
   "metadata": {
    "pycharm": {
     "name": "#%%\n"
    }
   },
   "outputs": [
    {
     "name": "stdout",
     "output_type": "stream",
     "text": [
      "77.4% of the head is in the frame\n"
     ]
    },
    {
     "data": {
      "text/plain": "<Figure size 648x648 with 1 Axes>",
      "image/png": "[encoded data removed]"
     },
     "metadata": {},
     "output_type": "display_data"
    }
   ],
   "source": [
    "camera_request['location']['z'] = 0.0\n",
    "\n",
    "camera = CameraJSONParser().get_camera(camera_request)\n",
    "pixels = camera.coordinates_to_pixel_space(head_vertices)\n",
    "in_frame = camera.get_pixels_in_frame(pixels)\n",
    "\n",
    "fraction_head_in_frame = in_frame.mean()\n",
    "print(f\"{fraction_head_in_frame*100:0.1f}% of the head is in the frame\")\n",
    "\n",
    "imshow(np.ones((256, 256, 3)))\n",
    "show_vertices(pixels[in_frame])"
   ]
  },
  {
   "cell_type": "code",
   "execution_count": 14,
   "id": "88789c66",
   "metadata": {
    "pycharm": {
     "name": "#%%\n"
    }
   },
   "outputs": [
    {
     "name": "stdout",
     "output_type": "stream",
     "text": [
      "7.5% of the head is in the frame\n"
     ]
    },
    {
     "data": {
      "text/plain": "<Figure size 648x648 with 1 Axes>",
      "image/png": "[encoded data removed]"
     },
     "metadata": {},
     "output_type": "display_data"
    }
   ],
   "source": [
    "camera_request['orientation']['rotation']['yaw'] = 25\n",
    "\n",
    "camera = CameraJSONParser().get_camera(camera_request)\n",
    "pixels = camera.coordinates_to_pixel_space(head_vertices)\n",
    "in_frame = camera.get_pixels_in_frame(pixels)\n",
    "\n",
    "fraction_head_in_frame = in_frame.mean()\n",
    "print(f\"{fraction_head_in_frame*100:0.1f}% of the head is in the frame\")\n",
    "\n",
    "imshow(np.ones((256, 256, 3)))\n",
    "show_vertices(pixels[in_frame])"
   ]
  }
 ],
 "metadata": {
  "kernelspec": {
   "display_name": "Python 3 (ipykernel)",
   "language": "python",
   "name": "python3"
  },
  "language_info": {
   "codemirror_mode": {
    "name": "ipython",
    "version": 3
   },
   "file_extension": ".py",
   "mimetype": "text/x-python",
   "name": "python",
   "nbconvert_exporter": "python",
   "pygments_lexer": "ipython3",
   "version": "3.8.10"
  }
 },
 "nbformat": 4,
 "nbformat_minor": 5
}