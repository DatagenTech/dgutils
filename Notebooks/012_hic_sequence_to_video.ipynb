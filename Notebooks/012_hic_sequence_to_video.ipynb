{
 "cells": [
  {
   "cell_type": "markdown",
   "metadata": {
    "pycharm": {
     "name": "#%% md\n"
    }
   },
   "source": [
    "# Humans in Context: Squence to video\n",
    "In this short notebook, we will show how to convert a sequence of HIC frames into a single video"
   ]
  },
  {
   "cell_type": "markdown",
   "metadata": {
    "pycharm": {
     "name": "#%% md\n"
    }
   },
   "source": [
    "## Imports and constants\n",
    "The input environment is the folder that was downloaded from the HIC platform after unzipping <br>\n",
    "The video will be created on the same directory as the input environment"
   ]
  },
  {
   "cell_type": "code",
   "execution_count": 1,
   "metadata": {
    "pycharm": {
     "name": "#%%\n"
    }
   },
   "outputs": [],
   "source": [
    "from os import listdir\n",
    "from os.path import join, exists, dirname\n",
    "import cv2\n",
    "from dghelpers import hic_visualize_pose\n",
    "\n",
    "INPUT_ENVIRONMENT = '../resources/hic_in_cabin'\n",
    "CAMERA = 'media_dashboard_camera'  # Replace that with the camera name\n",
    "FRAMES_DIR = join(INPUT_ENVIRONMENT, 'frames')\n",
    "VIDEO_NAME = join(INPUT_ENVIRONMENT + '.avi')\n",
    "FPS = 30\n",
    "CODEC = 'MJPG'\n",
    "DRAW_SKELETON = False # Change that to true if you want the skeleton to be drawn in the video"
   ]
  },
  {
   "cell_type": "markdown",
   "metadata": {
    "pycharm": {
     "name": "#%% md\n"
    }
   },
   "source": [
    "We'll build a list of all the images in the sequence"
   ]
  },
  {
   "cell_type": "code",
   "execution_count": 2,
   "metadata": {
    "pycharm": {
     "name": "#%%\n"
    }
   },
   "outputs": [],
   "source": [
    "frame_paths = [join(FRAMES_DIR, frame_dir, CAMERA, 'visible_spectrum.png') for frame_dir in listdir(FRAMES_DIR)]\n",
    "frame_paths = sorted([path for path in frame_paths if exists(path)])"
   ]
  },
  {
   "cell_type": "markdown",
   "metadata": {
    "pycharm": {
     "name": "#%% md\n"
    }
   },
   "source": [
    "Let's unify those frames into a single video file"
   ]
  },
  {
   "cell_type": "code",
   "execution_count": 3,
   "metadata": {
    "pycharm": {
     "name": "#%%\n"
    }
   },
   "outputs": [],
   "source": [
    "height, width, _ = cv2.imread(frame_paths[0]).shape\n",
    "video = cv2.VideoWriter(VIDEO_NAME, cv2.VideoWriter_fourcc(*CODEC), FPS, (width, height))\n",
    "\n",
    "for frame_path in frame_paths:\n",
    "    if DRAW_SKELETON:\n",
    "        frame = hic_visualize_pose(dirname(frame_path), skeleton=True)\n",
    "        frame = cv2.cvtColor(frame, cv2.COLOR_BGR2RGB)\n",
    "    else:\n",
    "        frame = cv2.imread(frame_path)\n",
    "    video.write(frame)\n",
    "\n",
    "video.release()"
   ]
  },
  {
   "cell_type": "markdown",
   "metadata": {
    "pycharm": {
     "name": "#%% md\n"
    }
   },
   "source": [
    "Look at you environment directory. A new video file has been created!"
   ]
  }
 ],
 "metadata": {
  "interpreter": {
   "hash": "e1793042832798f48320599fe96661a3f5ff655e48dbc8746c0b01742b1b00fc"
  },
  "kernelspec": {
   "display_name": "Python 3 (ipykernel)",
   "language": "python",
   "name": "python3"
  },
  "language_info": {
   "codemirror_mode": {
    "name": "ipython",
    "version": 3
   },
   "file_extension": ".py",
   "mimetype": "text/x-python",
   "name": "python",
   "nbconvert_exporter": "python",
   "pygments_lexer": "ipython3",
   "version": "3.9.12"
  }
 },
 "nbformat": 4,
 "nbformat_minor": 4
}