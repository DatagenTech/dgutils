{
 "cells": [
  {
   "cell_type": "markdown",
   "metadata": {
    "pycharm": {
     "name": "#%% md\n"
    }
   },
   "source": [
    "# Humans in Context: Sequence to video\n",
    "In this short notebook, we will show how to convert a sequence of HIC frames into a single video"
   ]
  },
  {
   "cell_type": "markdown",
   "metadata": {
    "pycharm": {
     "name": "#%% md\n"
    }
   },
   "source": [
    "## Imports and constants\n",
    "The input environment is the folder that was downloaded from the HIC platform after unzipping <br>\n",
    "The video will be created on the same directory as the input environment"
   ]
  },
  {
   "cell_type": "code",
   "execution_count": 1,
   "metadata": {
    "pycharm": {
     "name": "#%%\n"
    }
   },
   "outputs": [],
   "source": [
    "from os import listdir\n",
    "from os.path import join, exists, dirname\n",
    "import cv2\n",
    "import datagen\n",
    "from lib.dghelpers import hic_visualize_pose\n",
    "\n",
    "INPUT_ENVIRONMENT = '../resources/hic_home_security'\n",
    "# Path for the output video\n",
    "VIDEO_PATH = join(INPUT_ENVIRONMENT + '.avi')\n",
    "FPS = 30\n",
    "CODEC = 'MJPG'"
   ]
  },
  {
   "cell_type": "markdown",
   "metadata": {
    "pycharm": {
     "name": "#%% md\n"
    }
   },
   "source": [
    "Let's unify those frames into a single video file"
   ]
  },
  {
   "cell_type": "code",
   "execution_count": 2,
   "metadata": {
    "pycharm": {
     "name": "#%%\n"
    }
   },
   "outputs": [],
   "source": [
    "ds = datagen.load(INPUT_ENVIRONMENT, dataset_config = datagen.DatasetConfig(environment=\"hic\"))\n",
    "\n",
    "height, width, _ = ds[0].visible_spectrum.shape\n",
    "video = cv2.VideoWriter(VIDEO_PATH, cv2.VideoWriter_fourcc(*CODEC), FPS, (width, height))\n",
    "\n",
    "import matplotlib.pyplot as plt\n",
    "for dp in ds:\n",
    "    frame = dp.visible_spectrum\n",
    "    frame[..., :3] = cv2.cvtColor(frame[..., :3], cv2.COLOR_RGB2BGR)\n",
    "    video.write(frame)\n",
    "\n",
    "video.release()"
   ]
  },
  {
   "cell_type": "markdown",
   "metadata": {
    "pycharm": {
     "name": "#%% md\n"
    }
   },
   "source": [
    "Look at you environment directory. A new video file has been created!"
   ]
  }
 ],
 "metadata": {
  "interpreter": {
   "hash": "e1793042832798f48320599fe96661a3f5ff655e48dbc8746c0b01742b1b00fc"
  },
  "kernelspec": {
   "display_name": "Python 3 (ipykernel)",
   "language": "python",
   "name": "python3"
  },
  "language_info": {
   "codemirror_mode": {
    "name": "ipython",
    "version": 3
   },
   "file_extension": ".py",
   "mimetype": "text/x-python",
   "name": "python",
   "nbconvert_exporter": "python",
   "pygments_lexer": "ipython3",
   "version": "3.9.7"
  }
 },
 "nbformat": 4,
 "nbformat_minor": 4
}