{
 "cells": [
  {
   "cell_type": "markdown",
   "id": "2ca17527",
   "metadata": {
    "pycharm": {
     "name": "#%% md\n"
    }
   },
   "source": [
    "# PyTorch Neural Network training (overfitting example)"
   ]
  },
  {
   "cell_type": "markdown",
   "id": "3ecd928f",
   "metadata": {
    "pycharm": {
     "name": "#%% md\n"
    }
   },
   "source": [
    "In this notebook, we'll show how easy it is to train a NN on synthetic data for <b>keypoints estimation</b> task with synthetic data. To make this run quickly and easily, we...\n",
    "1. Selected a shallow ResNet model\n",
    "2. Created a low-res faces dataset (128*128) that can be found under the '../resources/training_data_example' folder.\n",
    "3. Keep in mind that this example overfits this small datasets, as we are not looking for the best NME score, but rather aim to show how easy it is to integrate Datagen's data into your training pipeline. "
   ]
  },
  {
   "cell_type": "markdown",
   "id": "45070cca",
   "metadata": {
    "pycharm": {
     "name": "#%% md\n"
    }
   },
   "source": [
    "Before running this notebook please make sure to install the following packages:\n",
    "- torch\n",
    "- torchvision\n",
    "- imgaug"
   ]
  },
  {
   "cell_type": "markdown",
   "id": "e05f52e0",
   "metadata": {
    "pycharm": {
     "name": "#%% md\n"
    }
   },
   "source": [
    "## Imports"
   ]
  },
  {
   "cell_type": "code",
   "execution_count": null,
   "id": "fb655ff7",
   "metadata": {
    "pycharm": {
     "name": "#%%\n"
    }
   },
   "outputs": [],
   "source": [
    "import os\n",
    "import numpy as np\n",
    "import torch\n",
    "from torch import nn\n",
    "from torch.optim.lr_scheduler import ExponentialLR\n",
    "from torch.utils.data import DataLoader, Dataset\n",
    "from torchvision.transforms import ToTensor\n",
    "from torchvision import models\n",
    "import matplotlib.pyplot as plt\n",
    "import cv2\n",
    "from imgaug import augmenters as iaa\n",
    "from mpl_toolkits.axes_grid1 import ImageGrid\n",
    "from IPython import display\n",
    "\n",
    "import datagen\n",
    "from dghelpers import imshow"
   ]
  },
  {
   "cell_type": "markdown",
   "id": "6d1ee829",
   "metadata": {
    "pycharm": {
     "name": "#%% md\n"
    }
   },
   "source": [
    "## Constants definition\n",
    "The train and test data is located in the main directory. We save a checkpoint of the network locally. The dataset is splitted into <b>90 train images</b> and <b>10 test images.</b>"
   ]
  },
  {
   "cell_type": "code",
   "execution_count": null,
   "id": "93369d39",
   "metadata": {
    "pycharm": {
     "name": "#%%\n"
    }
   },
   "outputs": [],
   "source": [
    "DATASET_PATH= '../resources/training_data_example'\n",
    "MODEL_PATH = \"model.pth\"\n",
    "IMG_SIZE = 128\n",
    "BATCH_SIZE = 45 # Ideally should be a power of 2 for efficiency\n",
    "TRAIN_TEST_RATIO = 0.9\n",
    "EPOCHS = 100\n",
    "NUMBER_OF_KEYPOINTS = 68"
   ]
  },
  {
   "cell_type": "markdown",
   "id": "b020dad5",
   "metadata": {
    "pycharm": {
     "name": "#%% md\n"
    }
   },
   "source": [
    "## Network definition\n",
    "We use a <b>ResNet-18</b> network and replace the last fully connected layer with a dense layer that regresses the keypoints locations"
   ]
  },
  {
   "cell_type": "code",
   "execution_count": null,
   "id": "bec3395b",
   "metadata": {
    "pycharm": {
     "name": "#%%\n"
    }
   },
   "outputs": [],
   "source": [
    "# Model functions\n",
    "class NeuralNetwork(nn.Module):\n",
    "    def __init__(self):\n",
    "        super(NeuralNetwork, self).__init__()\n",
    "        self.cnn_stack = models.resnet18(pretrained=True)\n",
    "        self.cnn_stack.fc = nn.Linear(self.cnn_stack.fc.in_features, NUMBER_OF_KEYPOINTS * 2)\n",
    "\n",
    "    def forward(self, x):\n",
    "        return self.cnn_stack(x)"
   ]
  },
  {
   "cell_type": "markdown",
   "id": "54b3ecfa",
   "metadata": {
    "pycharm": {
     "name": "#%% md\n"
    }
   },
   "source": [
    "## Datagen Dataset class definition\n",
    "We define a custom Dataset class using Datagen's data loader:"
   ]
  },
  {
   "cell_type": "code",
   "execution_count": null,
   "id": "39c2cc68",
   "metadata": {
    "pycharm": {
     "name": "#%%\n"
    }
   },
   "outputs": [],
   "source": [
    "class DGDataset(Dataset):\n",
    "    def __init__(self, dataset, Xy_accessor, with_augmentations):\n",
    "        # A Datagen data loader object (generated using datagen.load)\n",
    "        self.dataset = dataset\n",
    "        # Generic functions that take a data loader object as parameter and extract the relavant \n",
    "        # input and output data for the network\n",
    "        self.Xy_accessor = Xy_accessor\n",
    "        self.with_augmentations = with_augmentations\n",
    "\n",
    "    def __len__(self):\n",
    "        return len(self.dataset)\n",
    "\n",
    "    def __getitem__(self, idx):\n",
    "        datapoint = self.dataset[idx]\n",
    "        return self.Xy_accessor(datapoint, with_augmentations=self.with_augmentations)"
   ]
  },
  {
   "cell_type": "markdown",
   "id": "ce1b36f1",
   "metadata": {
    "pycharm": {
     "name": "#%% md\n"
    }
   },
   "source": [
    "## Train and test functions"
   ]
  },
  {
   "cell_type": "code",
   "execution_count": null,
   "id": "5347489f",
   "metadata": {
    "pycharm": {
     "name": "#%%\n"
    }
   },
   "outputs": [],
   "source": [
    "def train(dataloader, model, loss_fn, optimizer, scheduler):\n",
    "    model.train()\n",
    "    epoch_losses = []\n",
    "    for batch, (X, y) in enumerate(dataloader):\n",
    "        X, y = X.to(device), y.to(device)\n",
    "\n",
    "        # Compute prediction error\n",
    "        pred = model(X)\n",
    "        loss = loss_fn(pred, y)\n",
    "        # Backpropagation\n",
    "        optimizer.zero_grad()\n",
    "        loss.backward()\n",
    "        optimizer.step()\n",
    "\n",
    "        loss, current = loss.item(), batch * len(X)\n",
    "        epoch_losses += [loss]\n",
    "    scheduler.step()\n",
    "    return np.mean(epoch_losses)\n",
    "\n",
    "\n",
    "def test(dataloader, model, loss_fn):\n",
    "    num_batches = len(dataloader)\n",
    "    model.eval()\n",
    "    test_loss = 0\n",
    "    with torch.no_grad():\n",
    "        for X, y in dataloader:\n",
    "            X, y = X.to(device), y.to(device)\n",
    "            pred = model(X)\n",
    "            test_loss += loss_fn(pred, y).item()\n",
    "    test_loss /= num_batches\n",
    "    return test_loss"
   ]
  },
  {
   "cell_type": "markdown",
   "id": "1657cd34",
   "metadata": {
    "pycharm": {
     "name": "#%% md\n"
    }
   },
   "source": [
    "## Data preparation and augmentations\n",
    "We use Datagen's data laoder to seamlessly load the data without having to parse the files"
   ]
  },
  {
   "cell_type": "code",
   "execution_count": null,
   "id": "b18a7859",
   "metadata": {
    "pycharm": {
     "name": "#%%\n"
    }
   },
   "outputs": [],
   "source": [
    "ds = datagen.load(DATASET_PATH)"
   ]
  },
  {
   "cell_type": "markdown",
   "id": "af8a06d5",
   "metadata": {
    "pycharm": {
     "name": "#%% md\n"
    }
   },
   "source": [
    "Let's define some <b>augmentations</b> for our data. The augmentations will increase the dataset diversity and make the model more robust.<br>\n",
    "We will use gaussian blur and noise, scaling, translation, rotation and cropping augmentations. <b>imgaug</b> will automatically adapt the keypoints to the geometric augmentations performed on the image."
   ]
  },
  {
   "cell_type": "code",
   "execution_count": null,
   "id": "11c15427",
   "metadata": {
    "pycharm": {
     "name": "#%%\n"
    }
   },
   "outputs": [],
   "source": [
    "def augment(img, keypoints):\n",
    "    seq = iaa.Sometimes(0.8, \n",
    "            iaa.Sequential([\n",
    "                iaa.OneOf([\n",
    "                    iaa.GaussianBlur(sigma=(0, 2.0)), \n",
    "                    iaa.AdditiveGaussianNoise(scale=(0, 0.08*255))]),\n",
    "                iaa.OneOf([\n",
    "                    iaa.Affine(scale=(0.75, 1.25)), \n",
    "                    iaa.Affine(translate_percent=(0, 0.2)), \n",
    "                    iaa.Affine(rotate=(-20, 20))]),\n",
    "                iaa.Crop(percent=(0, 0.2))]))\n",
    "    img_augmented, keypoints_augmented = seq(images=[img], keypoints=[np.flip(keypoints)])\n",
    "    return img_augmented[0], np.flip(keypoints_augmented[0])"
   ]
  },
  {
   "cell_type": "markdown",
   "id": "0d91f3ce",
   "metadata": {
    "pycharm": {
     "name": "#%% md\n"
    }
   },
   "source": [
    "Let's show some examples of augmentations:"
   ]
  },
  {
   "cell_type": "code",
   "execution_count": null,
   "id": "917e1bef",
   "metadata": {
    "scrolled": true,
    "pycharm": {
     "name": "#%%\n"
    }
   },
   "outputs": [],
   "source": [
    "fig_shape = np.array((4, 4))\n",
    "fig_size = 5 * fig_shape\n",
    "fig = plt.figure(figsize=fig_size)\n",
    "grid = ImageGrid(fig, 111, nrows_ncols=fig_shape, axes_pad=0.)\n",
    "\n",
    "for i, ax in enumerate(grid):\n",
    "    ax.get_xaxis().set_ticks([])\n",
    "    ax.get_yaxis().set_ticks([])\n",
    "    img_augmented, keypoints_augmented = augment(ds[i].visible_spectrum, ds[i].keypoints.face.standard.coords_2d)\n",
    "    ax.imshow(img_augmented)\n",
    "    ax.scatter(*np.flip(keypoints_augmented).T, s=4)"
   ]
  },
  {
   "cell_type": "markdown",
   "id": "7e3c0c01",
   "metadata": {
    "pycharm": {
     "name": "#%% md\n"
    }
   },
   "source": [
    "We define a function to access the image and its label from a single datapoint, and perform all the pre-processing.<br>\n",
    "The keypoints array is being flattened and normalized to image size so that the networks predicts values in the [0..1] range. This makes the training process more stable."
   ]
  },
  {
   "cell_type": "code",
   "execution_count": null,
   "id": "952ce877",
   "metadata": {
    "pycharm": {
     "name": "#%%\n"
    }
   },
   "outputs": [],
   "source": [
    "def Xy_accessor(dp, with_augmentations=False):\n",
    "    img = dp.visible_spectrum\n",
    "    keypoints = dp.keypoints.face.standard.coords_2d\n",
    "    if with_augmentations:\n",
    "        img, keypoints = augment(img, keypoints)\n",
    "    img = ToTensor()(img)\n",
    "    keypoints = torch.tensor((keypoints.flatten()/IMG_SIZE).astype('float32'))\n",
    "    return img, keypoints"
   ]
  },
  {
   "cell_type": "markdown",
   "id": "8f0aefe6",
   "metadata": {
    "pycharm": {
     "name": "#%% md\n"
    }
   },
   "source": [
    "We split the dataset into train and test sets and create two PyTorch data loaders. <br>\n",
    "Augmentations are applied only to training data."
   ]
  },
  {
   "cell_type": "code",
   "execution_count": null,
   "id": "34cb4959",
   "metadata": {
    "pycharm": {
     "name": "#%%\n"
    }
   },
   "outputs": [],
   "source": [
    "train_set_size = int(TRAIN_TEST_RATIO * len(ds))\n",
    "training_data = DGDataset(ds[:train_set_size], Xy_accessor, with_augmentations=True)\n",
    "test_data = DGDataset(ds[train_set_size:], Xy_accessor, with_augmentations=False)\n",
    "\n",
    "train_dataloader = DataLoader(training_data, batch_size=BATCH_SIZE, shuffle=True)\n",
    "test_dataloader = DataLoader(test_data, batch_size=BATCH_SIZE)"
   ]
  },
  {
   "cell_type": "markdown",
   "id": "ac8ae63c",
   "metadata": {
    "pycharm": {
     "name": "#%% md\n"
    }
   },
   "source": [
    "## Training setup\n",
    "We use <b>Adam optimizer with MSE loss</b> and exponential learning rate decay"
   ]
  },
  {
   "cell_type": "code",
   "execution_count": null,
   "id": "c9cc5125",
   "metadata": {
    "pycharm": {
     "name": "#%%\n"
    }
   },
   "outputs": [],
   "source": [
    "device = \"cuda\" if torch.cuda.is_available() else \"cpu\"\n",
    "model = NeuralNetwork().to(device)\n",
    "\n",
    "loss_fn = nn.MSELoss()\n",
    "optimizer = torch.optim.Adam(model.parameters(), lr=1e-3)\n",
    "scheduler = ExponentialLR(optimizer, gamma=0.97)"
   ]
  },
  {
   "cell_type": "markdown",
   "id": "6ef523f8",
   "metadata": {
    "pycharm": {
     "name": "#%% md\n"
    }
   },
   "source": [
    "If a weight file already exists, lets load it. Otherwise, a new one will be created during training."
   ]
  },
  {
   "cell_type": "code",
   "execution_count": null,
   "id": "91aa80e3",
   "metadata": {
    "scrolled": true,
    "pycharm": {
     "name": "#%%\n"
    }
   },
   "outputs": [],
   "source": [
    "if os.path.exists(MODEL_PATH):\n",
    "    checkpoint = torch.load(MODEL_PATH)\n",
    "    model.load_state_dict(checkpoint)"
   ]
  },
  {
   "cell_type": "markdown",
   "id": "0022b727",
   "metadata": {
    "pycharm": {
     "name": "#%% md\n"
    }
   },
   "source": [
    "## Training loop\n",
    "Since our test set is simpler and does not include any augmentation, the test loss might be lower than the train loss."
   ]
  },
  {
   "cell_type": "code",
   "execution_count": null,
   "id": "f74d187b",
   "metadata": {
    "pycharm": {
     "name": "#%%\n"
    }
   },
   "outputs": [
    {
     "data": {
      "text/plain": "<Figure size 432x288 with 1 Axes>",
      "image/png": "[encoded data removed]"
     },
     "metadata": {},
     "output_type": "display_data"
    },
    {
     "ename": "KeyboardInterrupt",
     "evalue": "",
     "output_type": "error",
     "traceback": [
      "\u001B[1;31m---------------------------------------------------------------------------\u001B[0m",
      "\u001B[1;31mKeyboardInterrupt\u001B[0m                         Traceback (most recent call last)",
      "Input \u001B[1;32mIn [13]\u001B[0m, in \u001B[0;36m<cell line: 3>\u001B[1;34m()\u001B[0m\n\u001B[0;32m      5\u001B[0m train_loss \u001B[38;5;241m=\u001B[39m train(train_dataloader, model, loss_fn, optimizer, scheduler)\n\u001B[0;32m      6\u001B[0m train_losses \u001B[38;5;241m+\u001B[39m\u001B[38;5;241m=\u001B[39m [train_loss]\n\u001B[1;32m----> 7\u001B[0m test_loss \u001B[38;5;241m=\u001B[39m \u001B[43mtest\u001B[49m\u001B[43m(\u001B[49m\u001B[43mtest_dataloader\u001B[49m\u001B[43m,\u001B[49m\u001B[43m \u001B[49m\u001B[43mmodel\u001B[49m\u001B[43m,\u001B[49m\u001B[43m \u001B[49m\u001B[43mloss_fn\u001B[49m\u001B[43m)\u001B[49m\n\u001B[0;32m      8\u001B[0m test_losses \u001B[38;5;241m+\u001B[39m\u001B[38;5;241m=\u001B[39m [test_loss]\n\u001B[0;32m      9\u001B[0m torch\u001B[38;5;241m.\u001B[39msave(model\u001B[38;5;241m.\u001B[39mstate_dict(), MODEL_PATH)\n",
      "Input \u001B[1;32mIn [5]\u001B[0m, in \u001B[0;36mtest\u001B[1;34m(dataloader, model, loss_fn)\u001B[0m\n\u001B[0;32m     26\u001B[0m     \u001B[38;5;28;01mfor\u001B[39;00m X, y \u001B[38;5;129;01min\u001B[39;00m dataloader:\n\u001B[0;32m     27\u001B[0m         X, y \u001B[38;5;241m=\u001B[39m X\u001B[38;5;241m.\u001B[39mto(device), y\u001B[38;5;241m.\u001B[39mto(device)\n\u001B[1;32m---> 28\u001B[0m         pred \u001B[38;5;241m=\u001B[39m \u001B[43mmodel\u001B[49m\u001B[43m(\u001B[49m\u001B[43mX\u001B[49m\u001B[43m)\u001B[49m\n\u001B[0;32m     29\u001B[0m         test_loss \u001B[38;5;241m+\u001B[39m\u001B[38;5;241m=\u001B[39m loss_fn(pred, y)\u001B[38;5;241m.\u001B[39mitem()\n\u001B[0;32m     30\u001B[0m test_loss \u001B[38;5;241m/\u001B[39m\u001B[38;5;241m=\u001B[39m num_batches\n",
      "File \u001B[1;32m~\\.conda\\envs\\dgutils\\lib\\site-packages\\torch\\nn\\modules\\module.py:1130\u001B[0m, in \u001B[0;36mModule._call_impl\u001B[1;34m(self, *input, **kwargs)\u001B[0m\n\u001B[0;32m   1126\u001B[0m \u001B[38;5;66;03m# If we don't have any hooks, we want to skip the rest of the logic in\u001B[39;00m\n\u001B[0;32m   1127\u001B[0m \u001B[38;5;66;03m# this function, and just call forward.\u001B[39;00m\n\u001B[0;32m   1128\u001B[0m \u001B[38;5;28;01mif\u001B[39;00m \u001B[38;5;129;01mnot\u001B[39;00m (\u001B[38;5;28mself\u001B[39m\u001B[38;5;241m.\u001B[39m_backward_hooks \u001B[38;5;129;01mor\u001B[39;00m \u001B[38;5;28mself\u001B[39m\u001B[38;5;241m.\u001B[39m_forward_hooks \u001B[38;5;129;01mor\u001B[39;00m \u001B[38;5;28mself\u001B[39m\u001B[38;5;241m.\u001B[39m_forward_pre_hooks \u001B[38;5;129;01mor\u001B[39;00m _global_backward_hooks\n\u001B[0;32m   1129\u001B[0m         \u001B[38;5;129;01mor\u001B[39;00m _global_forward_hooks \u001B[38;5;129;01mor\u001B[39;00m _global_forward_pre_hooks):\n\u001B[1;32m-> 1130\u001B[0m     \u001B[38;5;28;01mreturn\u001B[39;00m forward_call(\u001B[38;5;241m*\u001B[39m\u001B[38;5;28minput\u001B[39m, \u001B[38;5;241m*\u001B[39m\u001B[38;5;241m*\u001B[39mkwargs)\n\u001B[0;32m   1131\u001B[0m \u001B[38;5;66;03m# Do not call functions when jit is used\u001B[39;00m\n\u001B[0;32m   1132\u001B[0m full_backward_hooks, non_full_backward_hooks \u001B[38;5;241m=\u001B[39m [], []\n",
      "Input \u001B[1;32mIn [3]\u001B[0m, in \u001B[0;36mNeuralNetwork.forward\u001B[1;34m(self, x)\u001B[0m\n\u001B[0;32m      8\u001B[0m \u001B[38;5;28;01mdef\u001B[39;00m \u001B[38;5;21mforward\u001B[39m(\u001B[38;5;28mself\u001B[39m, x):\n\u001B[1;32m----> 9\u001B[0m     \u001B[38;5;28;01mreturn\u001B[39;00m \u001B[38;5;28;43mself\u001B[39;49m\u001B[38;5;241;43m.\u001B[39;49m\u001B[43mcnn_stack\u001B[49m\u001B[43m(\u001B[49m\u001B[43mx\u001B[49m\u001B[43m)\u001B[49m\n",
      "File \u001B[1;32m~\\.conda\\envs\\dgutils\\lib\\site-packages\\torch\\nn\\modules\\module.py:1130\u001B[0m, in \u001B[0;36mModule._call_impl\u001B[1;34m(self, *input, **kwargs)\u001B[0m\n\u001B[0;32m   1126\u001B[0m \u001B[38;5;66;03m# If we don't have any hooks, we want to skip the rest of the logic in\u001B[39;00m\n\u001B[0;32m   1127\u001B[0m \u001B[38;5;66;03m# this function, and just call forward.\u001B[39;00m\n\u001B[0;32m   1128\u001B[0m \u001B[38;5;28;01mif\u001B[39;00m \u001B[38;5;129;01mnot\u001B[39;00m (\u001B[38;5;28mself\u001B[39m\u001B[38;5;241m.\u001B[39m_backward_hooks \u001B[38;5;129;01mor\u001B[39;00m \u001B[38;5;28mself\u001B[39m\u001B[38;5;241m.\u001B[39m_forward_hooks \u001B[38;5;129;01mor\u001B[39;00m \u001B[38;5;28mself\u001B[39m\u001B[38;5;241m.\u001B[39m_forward_pre_hooks \u001B[38;5;129;01mor\u001B[39;00m _global_backward_hooks\n\u001B[0;32m   1129\u001B[0m         \u001B[38;5;129;01mor\u001B[39;00m _global_forward_hooks \u001B[38;5;129;01mor\u001B[39;00m _global_forward_pre_hooks):\n\u001B[1;32m-> 1130\u001B[0m     \u001B[38;5;28;01mreturn\u001B[39;00m forward_call(\u001B[38;5;241m*\u001B[39m\u001B[38;5;28minput\u001B[39m, \u001B[38;5;241m*\u001B[39m\u001B[38;5;241m*\u001B[39mkwargs)\n\u001B[0;32m   1131\u001B[0m \u001B[38;5;66;03m# Do not call functions when jit is used\u001B[39;00m\n\u001B[0;32m   1132\u001B[0m full_backward_hooks, non_full_backward_hooks \u001B[38;5;241m=\u001B[39m [], []\n",
      "File \u001B[1;32m~\\.conda\\envs\\dgutils\\lib\\site-packages\\torchvision\\models\\resnet.py:285\u001B[0m, in \u001B[0;36mResNet.forward\u001B[1;34m(self, x)\u001B[0m\n\u001B[0;32m    284\u001B[0m \u001B[38;5;28;01mdef\u001B[39;00m \u001B[38;5;21mforward\u001B[39m(\u001B[38;5;28mself\u001B[39m, x: Tensor) \u001B[38;5;241m-\u001B[39m\u001B[38;5;241m>\u001B[39m Tensor:\n\u001B[1;32m--> 285\u001B[0m     \u001B[38;5;28;01mreturn\u001B[39;00m \u001B[38;5;28;43mself\u001B[39;49m\u001B[38;5;241;43m.\u001B[39;49m\u001B[43m_forward_impl\u001B[49m\u001B[43m(\u001B[49m\u001B[43mx\u001B[49m\u001B[43m)\u001B[49m\n",
      "File \u001B[1;32m~\\.conda\\envs\\dgutils\\lib\\site-packages\\torchvision\\models\\resnet.py:271\u001B[0m, in \u001B[0;36mResNet._forward_impl\u001B[1;34m(self, x)\u001B[0m\n\u001B[0;32m    269\u001B[0m x \u001B[38;5;241m=\u001B[39m \u001B[38;5;28mself\u001B[39m\u001B[38;5;241m.\u001B[39mbn1(x)\n\u001B[0;32m    270\u001B[0m x \u001B[38;5;241m=\u001B[39m \u001B[38;5;28mself\u001B[39m\u001B[38;5;241m.\u001B[39mrelu(x)\n\u001B[1;32m--> 271\u001B[0m x \u001B[38;5;241m=\u001B[39m \u001B[38;5;28;43mself\u001B[39;49m\u001B[38;5;241;43m.\u001B[39;49m\u001B[43mmaxpool\u001B[49m\u001B[43m(\u001B[49m\u001B[43mx\u001B[49m\u001B[43m)\u001B[49m\n\u001B[0;32m    273\u001B[0m x \u001B[38;5;241m=\u001B[39m \u001B[38;5;28mself\u001B[39m\u001B[38;5;241m.\u001B[39mlayer1(x)\n\u001B[0;32m    274\u001B[0m x \u001B[38;5;241m=\u001B[39m \u001B[38;5;28mself\u001B[39m\u001B[38;5;241m.\u001B[39mlayer2(x)\n",
      "File \u001B[1;32m~\\.conda\\envs\\dgutils\\lib\\site-packages\\torch\\nn\\modules\\module.py:1130\u001B[0m, in \u001B[0;36mModule._call_impl\u001B[1;34m(self, *input, **kwargs)\u001B[0m\n\u001B[0;32m   1126\u001B[0m \u001B[38;5;66;03m# If we don't have any hooks, we want to skip the rest of the logic in\u001B[39;00m\n\u001B[0;32m   1127\u001B[0m \u001B[38;5;66;03m# this function, and just call forward.\u001B[39;00m\n\u001B[0;32m   1128\u001B[0m \u001B[38;5;28;01mif\u001B[39;00m \u001B[38;5;129;01mnot\u001B[39;00m (\u001B[38;5;28mself\u001B[39m\u001B[38;5;241m.\u001B[39m_backward_hooks \u001B[38;5;129;01mor\u001B[39;00m \u001B[38;5;28mself\u001B[39m\u001B[38;5;241m.\u001B[39m_forward_hooks \u001B[38;5;129;01mor\u001B[39;00m \u001B[38;5;28mself\u001B[39m\u001B[38;5;241m.\u001B[39m_forward_pre_hooks \u001B[38;5;129;01mor\u001B[39;00m _global_backward_hooks\n\u001B[0;32m   1129\u001B[0m         \u001B[38;5;129;01mor\u001B[39;00m _global_forward_hooks \u001B[38;5;129;01mor\u001B[39;00m _global_forward_pre_hooks):\n\u001B[1;32m-> 1130\u001B[0m     \u001B[38;5;28;01mreturn\u001B[39;00m forward_call(\u001B[38;5;241m*\u001B[39m\u001B[38;5;28minput\u001B[39m, \u001B[38;5;241m*\u001B[39m\u001B[38;5;241m*\u001B[39mkwargs)\n\u001B[0;32m   1131\u001B[0m \u001B[38;5;66;03m# Do not call functions when jit is used\u001B[39;00m\n\u001B[0;32m   1132\u001B[0m full_backward_hooks, non_full_backward_hooks \u001B[38;5;241m=\u001B[39m [], []\n",
      "File \u001B[1;32m~\\.conda\\envs\\dgutils\\lib\\site-packages\\torch\\nn\\modules\\pooling.py:162\u001B[0m, in \u001B[0;36mMaxPool2d.forward\u001B[1;34m(self, input)\u001B[0m\n\u001B[0;32m    161\u001B[0m \u001B[38;5;28;01mdef\u001B[39;00m \u001B[38;5;21mforward\u001B[39m(\u001B[38;5;28mself\u001B[39m, \u001B[38;5;28minput\u001B[39m: Tensor):\n\u001B[1;32m--> 162\u001B[0m     \u001B[38;5;28;01mreturn\u001B[39;00m \u001B[43mF\u001B[49m\u001B[38;5;241;43m.\u001B[39;49m\u001B[43mmax_pool2d\u001B[49m\u001B[43m(\u001B[49m\u001B[38;5;28;43minput\u001B[39;49m\u001B[43m,\u001B[49m\u001B[43m \u001B[49m\u001B[38;5;28;43mself\u001B[39;49m\u001B[38;5;241;43m.\u001B[39;49m\u001B[43mkernel_size\u001B[49m\u001B[43m,\u001B[49m\u001B[43m \u001B[49m\u001B[38;5;28;43mself\u001B[39;49m\u001B[38;5;241;43m.\u001B[39;49m\u001B[43mstride\u001B[49m\u001B[43m,\u001B[49m\n\u001B[0;32m    163\u001B[0m \u001B[43m                        \u001B[49m\u001B[38;5;28;43mself\u001B[39;49m\u001B[38;5;241;43m.\u001B[39;49m\u001B[43mpadding\u001B[49m\u001B[43m,\u001B[49m\u001B[43m \u001B[49m\u001B[38;5;28;43mself\u001B[39;49m\u001B[38;5;241;43m.\u001B[39;49m\u001B[43mdilation\u001B[49m\u001B[43m,\u001B[49m\u001B[43m \u001B[49m\u001B[43mceil_mode\u001B[49m\u001B[38;5;241;43m=\u001B[39;49m\u001B[38;5;28;43mself\u001B[39;49m\u001B[38;5;241;43m.\u001B[39;49m\u001B[43mceil_mode\u001B[49m\u001B[43m,\u001B[49m\n\u001B[0;32m    164\u001B[0m \u001B[43m                        \u001B[49m\u001B[43mreturn_indices\u001B[49m\u001B[38;5;241;43m=\u001B[39;49m\u001B[38;5;28;43mself\u001B[39;49m\u001B[38;5;241;43m.\u001B[39;49m\u001B[43mreturn_indices\u001B[49m\u001B[43m)\u001B[49m\n",
      "File \u001B[1;32m~\\.conda\\envs\\dgutils\\lib\\site-packages\\torch\\_jit_internal.py:423\u001B[0m, in \u001B[0;36mboolean_dispatch.<locals>.fn\u001B[1;34m(*args, **kwargs)\u001B[0m\n\u001B[0;32m    421\u001B[0m     \u001B[38;5;28;01mreturn\u001B[39;00m if_true(\u001B[38;5;241m*\u001B[39margs, \u001B[38;5;241m*\u001B[39m\u001B[38;5;241m*\u001B[39mkwargs)\n\u001B[0;32m    422\u001B[0m \u001B[38;5;28;01melse\u001B[39;00m:\n\u001B[1;32m--> 423\u001B[0m     \u001B[38;5;28;01mreturn\u001B[39;00m if_false(\u001B[38;5;241m*\u001B[39margs, \u001B[38;5;241m*\u001B[39m\u001B[38;5;241m*\u001B[39mkwargs)\n",
      "File \u001B[1;32m~\\.conda\\envs\\dgutils\\lib\\site-packages\\torch\\nn\\functional.py:782\u001B[0m, in \u001B[0;36m_max_pool2d\u001B[1;34m(input, kernel_size, stride, padding, dilation, ceil_mode, return_indices)\u001B[0m\n\u001B[0;32m    780\u001B[0m \u001B[38;5;28;01mif\u001B[39;00m stride \u001B[38;5;129;01mis\u001B[39;00m \u001B[38;5;28;01mNone\u001B[39;00m:\n\u001B[0;32m    781\u001B[0m     stride \u001B[38;5;241m=\u001B[39m torch\u001B[38;5;241m.\u001B[39mjit\u001B[38;5;241m.\u001B[39mannotate(List[\u001B[38;5;28mint\u001B[39m], [])\n\u001B[1;32m--> 782\u001B[0m \u001B[38;5;28;01mreturn\u001B[39;00m \u001B[43mtorch\u001B[49m\u001B[38;5;241;43m.\u001B[39;49m\u001B[43mmax_pool2d\u001B[49m\u001B[43m(\u001B[49m\u001B[38;5;28;43minput\u001B[39;49m\u001B[43m,\u001B[49m\u001B[43m \u001B[49m\u001B[43mkernel_size\u001B[49m\u001B[43m,\u001B[49m\u001B[43m \u001B[49m\u001B[43mstride\u001B[49m\u001B[43m,\u001B[49m\u001B[43m \u001B[49m\u001B[43mpadding\u001B[49m\u001B[43m,\u001B[49m\u001B[43m \u001B[49m\u001B[43mdilation\u001B[49m\u001B[43m,\u001B[49m\u001B[43m \u001B[49m\u001B[43mceil_mode\u001B[49m\u001B[43m)\u001B[49m\n",
      "\u001B[1;31mKeyboardInterrupt\u001B[0m: "
     ]
    },
    {
     "data": {
      "text/plain": "<Figure size 432x288 with 1 Axes>",
      "image/png": "[encoded data removed]"
     },
     "metadata": {
      "needs_background": "light"
     },
     "output_type": "display_data"
    }
   ],
   "source": [
    "train_losses = []\n",
    "test_losses = []\n",
    "for t in range(EPOCHS):\n",
    "    display.display(plt.gcf())\n",
    "    train_loss = train(train_dataloader, model, loss_fn, optimizer, scheduler)\n",
    "    train_losses += [train_loss]\n",
    "    test_loss = test(test_dataloader, model, loss_fn)\n",
    "    test_losses += [test_loss]\n",
    "    torch.save(model.state_dict(), MODEL_PATH)\n",
    "    plt.clf()\n",
    "    plt.xlabel('Epoch')\n",
    "    plt.yscale('log')\n",
    "    plt.title('MSE Loss')\n",
    "    plt.plot(train_losses, label='Train loss')\n",
    "    plt.plot(test_losses, label='Test loss')\n",
    "    plt.legend()\n",
    "    display.clear_output(wait=True)\n",
    "\n",
    "print(\"Training complete!\")"
   ]
  },
  {
   "cell_type": "markdown",
   "id": "920f7567",
   "metadata": {
    "pycharm": {
     "name": "#%% md\n"
    }
   },
   "source": [
    "## Visualization of the results on the test set\n",
    "Since the network was overfitted on a very small amount of data, the results on test data are not optimal. <br> Nonetheless, the augmentations made the network much more robust and we can still see nice results on test data."
   ]
  },
  {
   "cell_type": "code",
   "execution_count": null,
   "id": "e92b1ab1",
   "metadata": {
    "scrolled": false,
    "pycharm": {
     "name": "#%%\n"
    }
   },
   "outputs": [],
   "source": [
    "model.eval()\n",
    "X, y = next(iter(test_dataloader))\n",
    "X = X.to(device)\n",
    "y_pred = model(X).detach().numpy()\n",
    "X = X.detach().numpy()\n",
    "y = y.detach().numpy()\n",
    "\n",
    "fig_shape = np.array((3, 3))\n",
    "fig_size = 5 * fig_shape\n",
    "fig = plt.figure(figsize=fig_size)\n",
    "grid = ImageGrid(fig, 111, nrows_ncols=fig_shape, axes_pad=0.)\n",
    "\n",
    "for i, (ax, img, lms_pred, lms_gt) in enumerate(zip(grid, X, y_pred, y)):\n",
    "    ax.get_xaxis().set_ticks([])\n",
    "    ax.get_yaxis().set_ticks([])\n",
    "    lms_gt = lms_gt.reshape(NUMBER_OF_KEYPOINTS, 2) * IMG_SIZE\n",
    "    lms_pred = lms_pred.reshape(NUMBER_OF_KEYPOINTS, 2) * IMG_SIZE\n",
    "    ax.imshow(np.moveaxis(img, 0, -1))\n",
    "    ax.scatter(*np.flip(lms_pred).T, s=4, label='Predicted')\n",
    "    ax.scatter(*np.flip(lms_gt).T, s=4, label='Ground truth')\n",
    "    if i == 2:\n",
    "        ax.legend()\n"
   ]
  },
  {
   "cell_type": "markdown",
   "id": "d721e9e2",
   "metadata": {
    "pycharm": {
     "name": "#%% md\n"
    }
   },
   "source": [
    "### How easy was that? Now that Datagen's data is integrated into your pipeline, you can go ahead and train on higher-res data, choose a less shallow architecture, and expand this overfittin example to reach amazing NME results. "
   ]
  },
  {
   "cell_type": "code",
   "execution_count": null,
   "id": "15db4525",
   "metadata": {
    "pycharm": {
     "name": "#%%\n"
    }
   },
   "outputs": [],
   "source": []
  }
 ],
 "metadata": {
  "kernelspec": {
   "display_name": "Python 3 (ipykernel)",
   "language": "python",
   "name": "python3"
  },
  "language_info": {
   "codemirror_mode": {
    "name": "ipython",
    "version": 3
   },
   "file_extension": ".py",
   "mimetype": "text/x-python",
   "name": "python",
   "nbconvert_exporter": "python",
   "pygments_lexer": "ipython3",
   "version": "3.9.12"
  }
 },
 "nbformat": 4,
 "nbformat_minor": 5
}